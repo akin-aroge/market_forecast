{
 "cells": [
  {
   "cell_type": "code",
   "execution_count": null,
   "metadata": {},
   "outputs": [],
   "source": [
    "import pandas as pd\n",
    "import numpy as np\n",
    "import matplotlib.pyplot as plt\n",
    "import seaborn as sns\n",
    "plt.rcParams['figure.figsize'] = 10, 10\n",
    "\n",
    "%matplotlib inline"
   ]
  },
  {
   "cell_type": "code",
   "execution_count": null,
   "metadata": {},
   "outputs": [],
   "source": [
    "enq_ga = pd.read_csv('../data/enq_data_ga.csv')\n",
    "enq_dw = pd.read_csv('../data/enq_data_dw.csv')\n",
    "booking = pd.read_csv('../data/booking_data_dw.csv')"
   ]
  },
  {
   "cell_type": "code",
   "execution_count": null,
   "metadata": {},
   "outputs": [],
   "source": [
    "enq_ga.head(3)\n",
    "enq_ga_cols = ['Event label', 'Country', 'Date']\n",
    "enq_ga.Date = pd.to_datetime(enq_ga.Date)"
   ]
  },
  {
   "cell_type": "code",
   "execution_count": null,
   "metadata": {},
   "outputs": [],
   "source": [
    "enq_dw.head(3)\n",
    "enq_dw_cols = ['website_reference_number', 'created']\n",
    "enq_dw.created = pd.to_datetime(enq_dw.created)"
   ]
  },
  {
   "cell_type": "code",
   "execution_count": null,
   "metadata": {},
   "outputs": [],
   "source": [
    "booking.head(3)\n",
    "booking_cols = ['website_reference_number', 'booking_created_DT',\n",
    "          'invoice_date', 'travel_date', 'ServiceGroupType', 'DESTINATION']\n",
    "booking.booking_created_DT = pd.to_datetime(booking.booking_created_DT)"
   ]
  },
  {
   "cell_type": "code",
   "execution_count": null,
   "metadata": {},
   "outputs": [],
   "source": [
    "enq_ga.loc[:, 'dummy'] = [1]*len(enq_ga)\n",
    "enq_ga.set_index('Date', drop=False, inplace=True)\n",
    "\n",
    "enq_dw.loc[:, 'dummy'] = [1]*len(enq_dw)\n",
    "enq_dw.set_index('created', drop=False, inplace=True)\n",
    "\n",
    "booking.loc[:, 'dummy'] = [1]*len(booking)\n",
    "booking.set_index('booking_created_DT', drop=False, inplace=True)"
   ]
  },
  {
   "cell_type": "code",
   "execution_count": null,
   "metadata": {},
   "outputs": [],
   "source": [
    "dt = enq_ga[enq_ga_cols].merge(enq_dw[enq_dw_cols], how='inner', left_on='Event label',\n",
    "            right_on='website_reference_number').merge(booking[booking_cols], how='inner',\n",
    "                                                      left_on='Event label',\n",
    "                                                      right_on='website_reference_number')\n",
    "\n",
    "dt.drop('website_reference_number_y', axis=1, inplace=True)\n",
    "dt.set_index('created', inplace=True, drop=False)\n",
    "dt.index = pd.to_datetime(dt.index)\n",
    "\n",
    "# cast dates\n",
    "dt.created = pd.to_datetime(dt.created)\n",
    "dt.booking_created_DT = pd.to_datetime(dt.booking_created_DT)\n",
    "dt.invoice_date = pd.to_datetime(dt.invoice_date)\n",
    "dt.travel_date = pd.to_datetime(dt.travel_date)\n",
    "\n",
    "# remove NA Destinations\n",
    "dt.dropna(axis=0, how='any', inplace=True)\n",
    "dt.drop_duplicates(subset=['Event label', 'website_reference_number_x',\n",
    "                          'created', 'DESTINATION'], inplace=True)\n",
    "dt.loc[:, 'dummy'] = [1]*len(dt)\n",
    "dt.loc[:, 'day_part'] = [str(date)[:10] for date in dt.index]\n",
    "\n",
    "dt.head(6)"
   ]
  },
  {
   "cell_type": "code",
   "execution_count": null,
   "metadata": {},
   "outputs": [],
   "source": [
    "countries = ['United States', 'United Kingdom', 'Australia','Canada']\n",
    "dt_countries = dt[dt.Country.isin(countries)]\n",
    "# dt_countries = dt.copy()\n",
    "# dt_countries.loc[:, 'dummy'] = [1]*len(dt_countries)\n",
    "# dt_countries.loc[:, 'day_part'] = [str(date)[:10] for date in dt_countries.index]\n",
    "\n",
    "enq_to_book_days = ((dt_countries.booking_created_DT - dt_countries.created).dt.total_seconds()) / (60*60*24.0)\n",
    "enq_to_book_days[enq_to_book_days < 0] = 0.0  # for days that come out negative\n",
    "\n",
    "enq_to_travel_days = ((dt_countries.travel_date - dt_countries.created).dt.total_seconds()) / (60*60*24.0)\n",
    "enq_to_travel_days[enq_to_travel_days < 0] = 0.0\n",
    "\n",
    "dt_countries['enq_to_book_days'] = enq_to_book_days\n",
    "dt_countries.loc[:, 'enq_to_travel_days'] = enq_to_travel_days\n",
    "\n",
    "dt_countries.loc[:, 'month'] = dt_countries.created.dt.month_name()"
   ]
  },
  {
   "cell_type": "code",
   "execution_count": null,
   "metadata": {},
   "outputs": [],
   "source": [
    "countries = ['United States', 'United Kingdom', 'Australia', 'Canada']\n",
    "a = dt_countries.groupby(['Country', 'day_part'])['dummy'].count().unstack().fillna(value=0).stack()\n",
    "\n",
    "a = a.reset_index()\n",
    "a.index = pd.to_datetime(a.day_part)\n",
    "a.Country = a.Country.astype('category')\n",
    "\n",
    "fig, ax = plt.subplots()\n",
    "for country in countries:\n",
    "    data = a[a.Country == country]\n",
    "    data.resample('w').sum().plot(ax=ax)\n",
    "\n",
    "ax.set_ylabel('number of enquiries')\n",
    "ax.set_xlabel('date')\n",
    "    \n",
    "plt.legend(countries);"
   ]
  },
  {
   "cell_type": "markdown",
   "metadata": {},
   "source": [
    "### Distribution Julien suggest"
   ]
  },
  {
   "cell_type": "markdown",
   "metadata": {},
   "source": [
    "#### Count of enquiries and the general distribution of e2b times"
   ]
  },
  {
   "cell_type": "code",
   "execution_count": null,
   "metadata": {},
   "outputs": [],
   "source": [
    "def plot_num_of_enq(destination, bound, data):\n",
    "    data = data[data.DESTINATION == destination]\n",
    "    \n",
    "    fig, ax = plt.subplots(1, 2)\n",
    "    fig.set_size_inches(14, 6)\n",
    "    data['dummy'].resample('w').sum().plot(ax=ax[0])\n",
    "    #data['enq_to_book_days'].resample('w').sum().plot(ax=ax[1])\n",
    "    data['enq_to_book_days'][data.enq_to_book_days < 70].hist(bins=40, density=True, ax=ax[1])\n",
    "    #data['enq_to_book_days'][data.enq_to_book_days < 50].plot.kde()\n",
    "    \n",
    "    ax0 = ax[0]; ax0.set(ylabel='Number of Enquiries')\n",
    "    ax1 = ax[1]; ax1.set(xlabel='Number of Days to Booking', ylabel='% of bookings')\n",
    "    \n",
    "    q = data['enq_to_book_days'].quantile(q=bound)\n",
    "    ax1.text(25, 0.12, str(bound*100)+'% of ' + str(destination)+ ' \\nenquiries take less than\\n '\\\n",
    "             +str(int(q)) + ' days to conver to booking.', fontsize=13)\n",
    "    \n",
    "from ipywidgets import interact, interactive, fixed\n",
    "import ipywidgets as widgets\n",
    "\n",
    "interact(plot_num_of_enq, data=fixed(dt_countries),bound=widgets.FloatSlider(min=0,max=1,step=0.1,value=10),\n",
    "         destination=dt_countries.DESTINATION.value_counts()[:7].index.tolist());"
   ]
  },
  {
   "cell_type": "code",
   "execution_count": null,
   "metadata": {},
   "outputs": [],
   "source": [
    "def plot_num_of_enq(destination, data):\n",
    "    data = data[data.DESTINATION == destination]\n",
    "    \n",
    "    fig, ax = plt.subplots(1, 2)\n",
    "    fig.set_size_inches(16, 6)\n",
    "    data['dummy'].resample('w').sum().plot(ax=ax[0])\n",
    "    \n",
    "    data.set_index('booking_created_DT', inplace=True)\n",
    "    #data['enq_to_book_days'].resample('w').sum().plot(ax=ax[1])\n",
    "    #data['enq_to_book_days'][data.enq_to_book_days < 70].hist(bins=40, ax=ax[1])\n",
    "    #data['enq_to_book_days'][data.enq_to_book_days < 50].plot.kde()\n",
    "    sns.boxplot(x='month', y='enq_to_book_days',  \n",
    "                 data=dt_countries, ax=ax[1])\n",
    "    \n",
    "    ax0 = ax[0]; ax0.set(ylabel='Number of Enquiries')\n",
    "    ax1 = ax[1]; ax1.set(xlabel='Number of Days to Booking', ylabel='Count')\n",
    "    ax1.set_ylim(-1, 150)\n",
    "    \n",
    "from ipywidgets import interact, interactive, fixed\n",
    "import ipywidgets as widgets\n",
    "\n",
    "interact(plot_num_of_enq, data=fixed(dt_countries), destination=dt_countries.DESTINATION.value_counts()[:7].index.tolist());\n",
    "\n",
    "sns.boxplot(x='month', y='enq_to_book_days',  hue='Country', data=dt_countries, ax=ax);"
   ]
  },
  {
   "cell_type": "code",
   "execution_count": null,
   "metadata": {},
   "outputs": [],
   "source": [
    "dt_countries['enq_to_book_days'].median()"
   ]
  },
  {
   "cell_type": "markdown",
   "metadata": {},
   "source": [
    "#### Count of Enquiries over enquiry time and Count of bookings over booking times"
   ]
  },
  {
   "cell_type": "code",
   "execution_count": null,
   "metadata": {},
   "outputs": [],
   "source": [
    "def plot_num_of_enq(destination, data):\n",
    "    data = data[data.DESTINATION == destination]\n",
    "    \n",
    "    fig, ax = plt.subplots()\n",
    "    fig.set_size_inches(14, 7)\n",
    "    data['dummy'].resample('w').sum().plot(ax=ax)\n",
    "    ax.set_ylabel('number of enquiries', color='b')\n",
    "    ax.tick_params('y', colors='b')\n",
    "    \n",
    "    ax2 = ax.twinx()\n",
    "    data.set_index('booking_created_DT', inplace=True)\n",
    "    data['dummy'].resample('w').sum().plot(ax=ax2, color='r')\n",
    "    #ax2.set(xlabel='Date', ylabel='number of bookings')\n",
    "    ax2.set_ylabel('number of bookings', color='r')\n",
    "    ax2.tick_params('y', colors='r')\n",
    "    ax2.tick_params('y', colors='r')\n",
    "    \n",
    "    ax.grid(True)\n",
    "    \n",
    "from ipywidgets import interact, interactive, fixed\n",
    "import ipywidgets as widgets\n",
    "\n",
    "interact(plot_num_of_enq, data=fixed(dt_countries), destination=dt_countries.DESTINATION.value_counts()[:7].index.tolist());"
   ]
  },
  {
   "cell_type": "markdown",
   "metadata": {},
   "source": [
    "### Time to book"
   ]
  },
  {
   "cell_type": "code",
   "execution_count": null,
   "metadata": {},
   "outputs": [],
   "source": [
    "enq_to_book_days = ((dt_countries.booking_created_DT - dt_countries.created).dt.total_seconds()) / (60*60*24.0)\n",
    "enq_to_book_days[enq_to_book_days < 0] = 0.0  # for days that come out negative\n",
    "\n",
    "enq_to_travel_days = ((dt_countries.travel_date - dt_countries.created).dt.total_seconds()) / (60*60*24.0)\n",
    "enq_to_travel_days[enq_to_travel_days < 0] = 0.0\n",
    "\n",
    "dt_countries.loc[:, 'enq_to_book_days'] = enq_to_book_days\n",
    "dt_countries.loc[:, 'enq_to_travel_days'] = enq_to_travel_days\n",
    "\n",
    "dt_countries.loc[:, 'month'] = dt_countries.created.dt.month_name()"
   ]
  },
  {
   "cell_type": "code",
   "execution_count": null,
   "metadata": {},
   "outputs": [],
   "source": [
    "fig, ax = plt.subplots()\n",
    "fig.set_size_inches(10,7)\n",
    "ax.set_ylim(-1, 70)\n",
    "sns.boxplot(x='month', y='enq_to_book_days',  hue='Country', data=dt_countries, ax=ax)"
   ]
  },
  {
   "cell_type": "markdown",
   "metadata": {},
   "source": [
    "### TIme to travel"
   ]
  },
  {
   "cell_type": "code",
   "execution_count": null,
   "metadata": {},
   "outputs": [],
   "source": [
    "fig, ax = plt.subplots()\n",
    "fig.set_size_inches(10,7)\n",
    "#ax.set_ylim(-1, 70)\n",
    "sns.boxplot(x='month', y='enq_to_travel_days',  hue='Country', data=dt_countries, ax=ax)"
   ]
  },
  {
   "cell_type": "code",
   "execution_count": null,
   "metadata": {},
   "outputs": [],
   "source": [
    "def plot_dist(destination, data=dt_countries):\n",
    "    dt = dt_countries[dt_countries.DESTINATION == destination]\n",
    "    \n",
    "    fig, ax = plt.subplots()\n",
    "    fig.set_size_inches(10,7)\n",
    "    \n",
    "    sns.boxplot(x='month', y='enq_to_book_days',  \n",
    "                data=dt, ax=ax)\n",
    "\n",
    "    \n",
    "\n",
    "from ipywidgets import interact, interactive, fixed\n",
    "import ipywidgets as widgets\n",
    "\n",
    "interact(plot_dist, data=fixed(dt_countries), destination=dt_countries.DESTINATION.value_counts()[:7].index.tolist())\n",
    "    \n"
   ]
  },
  {
   "cell_type": "code",
   "execution_count": null,
   "metadata": {},
   "outputs": [],
   "source": [
    "def plot_enq_book(destination, enq_ga=enq_ga, enq_dw=enq_dw, booking=booking):\n",
    "    booking = booking[booking.DESTINATION == destination]\n",
    "    \n",
    "    \n",
    "    fig, ax = plt.subplots()\n",
    "    fig.set_size_inches(14, 7)\n",
    "    enq_ga['dummy'].resample('w').sum().plot(ax=ax)\n",
    "    ax.set_ylabel('number of enquiries', color='b')\n",
    "    ax.tick_params('y', colors='b')\n",
    "    \n",
    "    ax2 = ax.twinx()\n",
    "    #data.set_index('booking_created_DT', inplace=True)\n",
    "    booking['dummy'].resample('w').sum().plot(ax=ax2, color='r')\n",
    "    #ax2.set(xlabel='Date', ylabel='number of bookings')\n",
    "    ax2.set_ylabel('number of bookings', color='r')\n",
    "    ax2.tick_params('y', colors='r')\n",
    "    ax2.tick_params('y', colors='r')\n",
    "    \n",
    "    ax.grid(True); ax.set_title('Enquiries and Bookings (red)', fontsize=17)\n",
    "    ax.set\n",
    "    \n",
    "from ipywidgets import interact, interactive, fixed\n",
    "import ipywidgets as widgets\n",
    "\n",
    "interact(plot_enq_book, enq_ga=fixed(enq_ga), enq_dw=fixed(enq_dw), booking=fixed(booking),\n",
    "         destination=booking.DESTINATION.value_counts()[:7].index.tolist())"
   ]
  }
 ],
 "metadata": {
  "kernelspec": {
   "display_name": "Python 3",
   "language": "python",
   "name": "python3"
  },
  "language_info": {
   "codemirror_mode": {
    "name": "ipython",
    "version": 3
   },
   "file_extension": ".py",
   "mimetype": "text/x-python",
   "name": "python",
   "nbconvert_exporter": "python",
   "pygments_lexer": "ipython3",
   "version": "3.6.3"
  }
 },
 "nbformat": 4,
 "nbformat_minor": 2
}
