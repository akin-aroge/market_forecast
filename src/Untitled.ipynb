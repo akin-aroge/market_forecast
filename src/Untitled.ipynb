{
 "cells": [
  {
   "cell_type": "code",
   "execution_count": 1,
   "metadata": {},
   "outputs": [],
   "source": [
    "import pandas as pd\n",
    "import numpy as np\n",
    "import matplotlib.pyplot as plt\n",
    "import seaborn as sns\n",
    "plt.rcParams['figure.figsize'] = 10, 10\n",
    "\n",
    "%matplotlib inline"
   ]
  },
  {
   "cell_type": "code",
   "execution_count": 2,
   "metadata": {},
   "outputs": [],
   "source": [
    "enq_ga = pd.read_csv('../data/enq_data_ga.csv')\n",
    "enq_dw = pd.read_csv('../data/enq_data_dw.csv')\n",
    "booking = pd.read_csv('../data/booking_data_dw.csv')"
   ]
  },
  {
   "cell_type": "code",
   "execution_count": 3,
   "metadata": {},
   "outputs": [],
   "source": [
    "enq_ga.head(3)\n",
    "enq_ga_cols = ['Event label', 'Country', 'Date']\n",
    "enq_ga.Date = pd.to_datetime(enq_ga.Date)"
   ]
  },
  {
   "cell_type": "code",
   "execution_count": 4,
   "metadata": {},
   "outputs": [],
   "source": [
    "enq_dw.head(3)\n",
    "enq_dw_cols = ['website_reference_number', 'created']\n",
    "enq_dw.created = pd.to_datetime(enq_dw.created)"
   ]
  },
  {
   "cell_type": "code",
   "execution_count": 5,
   "metadata": {},
   "outputs": [],
   "source": [
    "booking.head(3)\n",
    "booking_cols = ['website_reference_number', 'booking_created_DT',\n",
    "          'invoice_date', 'travel_date', 'ServiceGroupType', 'DESTINATION']\n",
    "booking.booking_created_DT = pd.to_datetime(booking.booking_created_DT)"
   ]
  },
  {
   "cell_type": "code",
   "execution_count": 6,
   "metadata": {},
   "outputs": [
    {
     "data": {
      "text/plain": [
       "[123, 462, 639, 1354, 1722, 2314, 2315, 2433]"
      ]
     },
     "execution_count": 6,
     "metadata": {},
     "output_type": "execute_result"
    }
   ],
   "source": [
    "a = booking[booking.DESTINATION.isnull()].index.tolist()\n",
    "a"
   ]
  },
  {
   "cell_type": "code",
   "execution_count": 7,
   "metadata": {},
   "outputs": [
    {
     "data": {
      "text/plain": [
       "fact_sales_id                                                 206620\n",
       "BookingReference                                RA141050-1-1-1-1    \n",
       "reference_number                                       RA-EN-1060864\n",
       "website_reference_number                              RA-EN-20005891\n",
       "BookingStatus               Confirmed                               \n",
       "booking_created_DT                               2018-01-31 00:00:00\n",
       "invoice_date                                              2018-01-31\n",
       "ServiceGroupType                                       ACCOMMODATION\n",
       "travel_date                                               2018-09-15\n",
       "dim_enquiry_id                                                 63937\n",
       "dim_serviceprovider_id                                          3894\n",
       "Service_Provider_Name                            MalaMala Sable Camp\n",
       "DESTINATION                                                      NaN\n",
       "Exist in Enquiry Table                                           NaN\n",
       "Exist in GA                                                      NaN\n",
       "Country                                                          NaN\n",
       "Enquiry Date                                                     NaN\n",
       "Name: 123, dtype: object"
      ]
     },
     "execution_count": 7,
     "metadata": {},
     "output_type": "execute_result"
    }
   ],
   "source": [
    "booking.iloc[123, :]"
   ]
  },
  {
   "cell_type": "code",
   "execution_count": 8,
   "metadata": {},
   "outputs": [],
   "source": [
    "enq_ga.loc[:, 'dummy'] = [1]*len(enq_ga)\n",
    "enq_ga.set_index('Date', drop=False, inplace=True)\n",
    "\n",
    "enq_dw.loc[:, 'dummy'] = [1]*len(enq_dw)\n",
    "enq_dw.set_index('created', drop=False, inplace=True)\n",
    "\n",
    "booking.loc[:, 'dummy'] = [1]*len(booking)\n",
    "booking.set_index('booking_created_DT', drop=False, inplace=True)"
   ]
  },
  {
   "cell_type": "code",
   "execution_count": 9,
   "metadata": {},
   "outputs": [
    {
     "data": {
      "text/html": [
       "<div>\n",
       "<style scoped>\n",
       "    .dataframe tbody tr th:only-of-type {\n",
       "        vertical-align: middle;\n",
       "    }\n",
       "\n",
       "    .dataframe tbody tr th {\n",
       "        vertical-align: top;\n",
       "    }\n",
       "\n",
       "    .dataframe thead th {\n",
       "        text-align: right;\n",
       "    }\n",
       "</style>\n",
       "<table border=\"1\" class=\"dataframe\">\n",
       "  <thead>\n",
       "    <tr style=\"text-align: right;\">\n",
       "      <th></th>\n",
       "      <th>Event label</th>\n",
       "      <th>Country</th>\n",
       "      <th>Date</th>\n",
       "      <th>website_reference_number_x</th>\n",
       "      <th>created</th>\n",
       "      <th>booking_created_DT</th>\n",
       "      <th>invoice_date</th>\n",
       "      <th>travel_date</th>\n",
       "      <th>ServiceGroupType</th>\n",
       "      <th>DESTINATION</th>\n",
       "    </tr>\n",
       "    <tr>\n",
       "      <th>created</th>\n",
       "      <th></th>\n",
       "      <th></th>\n",
       "      <th></th>\n",
       "      <th></th>\n",
       "      <th></th>\n",
       "      <th></th>\n",
       "      <th></th>\n",
       "      <th></th>\n",
       "      <th></th>\n",
       "      <th></th>\n",
       "    </tr>\n",
       "  </thead>\n",
       "  <tbody>\n",
       "    <tr>\n",
       "      <th>2018-01-01 22:51:41</th>\n",
       "      <td>RA-EN-20006149</td>\n",
       "      <td>United States</td>\n",
       "      <td>2018-01-01</td>\n",
       "      <td>RA-EN-20006149</td>\n",
       "      <td>2018-01-01 22:51:41</td>\n",
       "      <td>2018-01-08</td>\n",
       "      <td>2018-01-29</td>\n",
       "      <td>2019-01-08</td>\n",
       "      <td>ACCOMMODATION</td>\n",
       "      <td>Greater Kruger Area</td>\n",
       "    </tr>\n",
       "    <tr>\n",
       "      <th>2018-01-01 22:51:41</th>\n",
       "      <td>RA-EN-20006149</td>\n",
       "      <td>United States</td>\n",
       "      <td>2018-01-01</td>\n",
       "      <td>RA-EN-20006149</td>\n",
       "      <td>2018-01-01 22:51:41</td>\n",
       "      <td>2018-01-08</td>\n",
       "      <td>2018-01-29</td>\n",
       "      <td>2019-01-08</td>\n",
       "      <td>ACCOMMODATION</td>\n",
       "      <td>Inhambane Province</td>\n",
       "    </tr>\n",
       "    <tr>\n",
       "      <th>2018-01-02 02:12:36</th>\n",
       "      <td>RA-EN-20006155</td>\n",
       "      <td>United States</td>\n",
       "      <td>2018-01-02</td>\n",
       "      <td>RA-EN-20006155</td>\n",
       "      <td>2018-01-02 02:12:36</td>\n",
       "      <td>2018-02-14</td>\n",
       "      <td>2018-02-19</td>\n",
       "      <td>2018-09-24</td>\n",
       "      <td>ACCOMMODATION</td>\n",
       "      <td>Chobe Region</td>\n",
       "    </tr>\n",
       "    <tr>\n",
       "      <th>2018-01-02 02:12:36</th>\n",
       "      <td>RA-EN-20006155</td>\n",
       "      <td>United States</td>\n",
       "      <td>2018-01-02</td>\n",
       "      <td>RA-EN-20006155</td>\n",
       "      <td>2018-01-02 02:12:36</td>\n",
       "      <td>2018-02-14</td>\n",
       "      <td>2018-02-19</td>\n",
       "      <td>2018-09-24</td>\n",
       "      <td>ACCOMMODATION</td>\n",
       "      <td>Victoria Falls Zimbabwe</td>\n",
       "    </tr>\n",
       "    <tr>\n",
       "      <th>2018-01-02 05:01:31</th>\n",
       "      <td>RA-EN-20006157</td>\n",
       "      <td>Malaysia</td>\n",
       "      <td>2018-01-02</td>\n",
       "      <td>RA-EN-20006157</td>\n",
       "      <td>2018-01-02 05:01:31</td>\n",
       "      <td>2018-06-21</td>\n",
       "      <td>2018-06-21</td>\n",
       "      <td>2019-08-13</td>\n",
       "      <td>ACCOMMODATION</td>\n",
       "      <td>Gauteng</td>\n",
       "    </tr>\n",
       "    <tr>\n",
       "      <th>2018-01-02 21:18:58</th>\n",
       "      <td>RA-EN-20006181</td>\n",
       "      <td>United States</td>\n",
       "      <td>2018-01-02</td>\n",
       "      <td>RA-EN-20006181</td>\n",
       "      <td>2018-01-02 21:18:58</td>\n",
       "      <td>2018-01-03</td>\n",
       "      <td>2018-01-10</td>\n",
       "      <td>2018-07-29</td>\n",
       "      <td>ACCOMMODATION</td>\n",
       "      <td>Madikwe Area</td>\n",
       "    </tr>\n",
       "  </tbody>\n",
       "</table>\n",
       "</div>"
      ],
      "text/plain": [
       "                        Event label        Country       Date  \\\n",
       "created                                                         \n",
       "2018-01-01 22:51:41  RA-EN-20006149  United States 2018-01-01   \n",
       "2018-01-01 22:51:41  RA-EN-20006149  United States 2018-01-01   \n",
       "2018-01-02 02:12:36  RA-EN-20006155  United States 2018-01-02   \n",
       "2018-01-02 02:12:36  RA-EN-20006155  United States 2018-01-02   \n",
       "2018-01-02 05:01:31  RA-EN-20006157       Malaysia 2018-01-02   \n",
       "2018-01-02 21:18:58  RA-EN-20006181  United States 2018-01-02   \n",
       "\n",
       "                    website_reference_number_x             created  \\\n",
       "created                                                              \n",
       "2018-01-01 22:51:41             RA-EN-20006149 2018-01-01 22:51:41   \n",
       "2018-01-01 22:51:41             RA-EN-20006149 2018-01-01 22:51:41   \n",
       "2018-01-02 02:12:36             RA-EN-20006155 2018-01-02 02:12:36   \n",
       "2018-01-02 02:12:36             RA-EN-20006155 2018-01-02 02:12:36   \n",
       "2018-01-02 05:01:31             RA-EN-20006157 2018-01-02 05:01:31   \n",
       "2018-01-02 21:18:58             RA-EN-20006181 2018-01-02 21:18:58   \n",
       "\n",
       "                    booking_created_DT invoice_date travel_date  \\\n",
       "created                                                           \n",
       "2018-01-01 22:51:41         2018-01-08   2018-01-29  2019-01-08   \n",
       "2018-01-01 22:51:41         2018-01-08   2018-01-29  2019-01-08   \n",
       "2018-01-02 02:12:36         2018-02-14   2018-02-19  2018-09-24   \n",
       "2018-01-02 02:12:36         2018-02-14   2018-02-19  2018-09-24   \n",
       "2018-01-02 05:01:31         2018-06-21   2018-06-21  2019-08-13   \n",
       "2018-01-02 21:18:58         2018-01-03   2018-01-10  2018-07-29   \n",
       "\n",
       "                    ServiceGroupType              DESTINATION  \n",
       "created                                                        \n",
       "2018-01-01 22:51:41    ACCOMMODATION      Greater Kruger Area  \n",
       "2018-01-01 22:51:41    ACCOMMODATION       Inhambane Province  \n",
       "2018-01-02 02:12:36    ACCOMMODATION             Chobe Region  \n",
       "2018-01-02 02:12:36    ACCOMMODATION  Victoria Falls Zimbabwe  \n",
       "2018-01-02 05:01:31    ACCOMMODATION                  Gauteng  \n",
       "2018-01-02 21:18:58    ACCOMMODATION             Madikwe Area  "
      ]
     },
     "execution_count": 9,
     "metadata": {},
     "output_type": "execute_result"
    }
   ],
   "source": [
    "dt = enq_ga[enq_ga_cols].merge(enq_dw[enq_dw_cols], how='inner', left_on='Event label',\n",
    "            right_on='website_reference_number').merge(booking[booking_cols], how='inner',\n",
    "                                                      left_on='Event label',\n",
    "                                                      right_on='website_reference_number')\n",
    "\n",
    "dt.drop('website_reference_number_y', axis=1, inplace=True)\n",
    "dt.set_index('created', inplace=True, drop=False)\n",
    "dt.index = pd.to_datetime(dt.index)\n",
    "\n",
    "# cast dates\n",
    "dt.created = pd.to_datetime(dt.created)\n",
    "dt.booking_created_DT = pd.to_datetime(dt.booking_created_DT)\n",
    "dt.invoice_date = pd.to_datetime(dt.invoice_date)\n",
    "dt.travel_date = pd.to_datetime(dt.travel_date)\n",
    "\n",
    "# remove NA Destinations\n",
    "dt.dropna(axis=0, how='any', inplace=True)\n",
    "dt.drop_duplicates(subset=['Event label', 'website_reference_number_x',\n",
    "                          'created', 'DESTINATION'], inplace=True)\n",
    "dt.head(6)"
   ]
  },
  {
   "cell_type": "code",
   "execution_count": 10,
   "metadata": {},
   "outputs": [
    {
     "data": {
      "text/plain": [
       "(2012, 10)"
      ]
     },
     "execution_count": 10,
     "metadata": {},
     "output_type": "execute_result"
    }
   ],
   "source": [
    "dt.shape"
   ]
  },
  {
   "cell_type": "code",
   "execution_count": 11,
   "metadata": {},
   "outputs": [],
   "source": [
    "# countries = ['United States', 'United Kingdom', 'Australia','Canada']\n",
    "# dt_countries = dt[dt.Country.isin(countries)]\n",
    "dt_countries = dt.copy()\n",
    "dt_countries.loc[:, 'dummy'] = [1]*len(dt_countries)\n",
    "dt_countries.loc[:, 'day_part'] = [str(date)[:10] for date in dt_countries.index]\n",
    "\n",
    "enq_to_book_days = ((dt.booking_created_DT - dt.created).dt.total_seconds()) / (60*60*24.0)\n",
    "enq_to_book_days[enq_to_book_days < 0] = 0.0  # for days that come out negative\n",
    "\n",
    "enq_to_travel_days = ((dt.travel_date - dt.created).dt.total_seconds()) / (60*60*24.0)\n",
    "enq_to_travel_days[enq_to_travel_days < 0] = 0.0\n",
    "\n",
    "dt_countries.loc[:, 'enq_to_book_days'] = enq_to_book_days\n",
    "dt_countries.loc[:, 'enq_to_travel_days'] = enq_to_travel_days\n",
    "\n",
    "dt_countries.loc[:, 'month'] = dt_countries.created.dt.month_name()"
   ]
  },
  {
   "cell_type": "code",
   "execution_count": 12,
   "metadata": {},
   "outputs": [
    {
     "ename": "NameError",
     "evalue": "name 'countries' is not defined",
     "output_type": "error",
     "traceback": [
      "\u001b[1;31m---------------------------------------------------------------------------\u001b[0m",
      "\u001b[1;31mNameError\u001b[0m                                 Traceback (most recent call last)",
      "\u001b[1;32m<ipython-input-12-d6760c426be3>\u001b[0m in \u001b[0;36m<module>\u001b[1;34m()\u001b[0m\n\u001b[0;32m      6\u001b[0m \u001b[1;33m\u001b[0m\u001b[0m\n\u001b[0;32m      7\u001b[0m \u001b[0mfig\u001b[0m\u001b[1;33m,\u001b[0m \u001b[0max\u001b[0m \u001b[1;33m=\u001b[0m \u001b[0mplt\u001b[0m\u001b[1;33m.\u001b[0m\u001b[0msubplots\u001b[0m\u001b[1;33m(\u001b[0m\u001b[1;33m)\u001b[0m\u001b[1;33m\u001b[0m\u001b[0m\n\u001b[1;32m----> 8\u001b[1;33m \u001b[1;32mfor\u001b[0m \u001b[0mcountry\u001b[0m \u001b[1;32min\u001b[0m \u001b[0mcountries\u001b[0m\u001b[1;33m:\u001b[0m\u001b[1;33m\u001b[0m\u001b[0m\n\u001b[0m\u001b[0;32m      9\u001b[0m     \u001b[0mdata\u001b[0m \u001b[1;33m=\u001b[0m \u001b[0ma\u001b[0m\u001b[1;33m[\u001b[0m\u001b[0ma\u001b[0m\u001b[1;33m.\u001b[0m\u001b[0mCountry\u001b[0m \u001b[1;33m==\u001b[0m \u001b[0mcountry\u001b[0m\u001b[1;33m]\u001b[0m\u001b[1;33m\u001b[0m\u001b[0m\n\u001b[0;32m     10\u001b[0m     \u001b[0mdata\u001b[0m\u001b[1;33m.\u001b[0m\u001b[0mresample\u001b[0m\u001b[1;33m(\u001b[0m\u001b[1;34m'w'\u001b[0m\u001b[1;33m)\u001b[0m\u001b[1;33m.\u001b[0m\u001b[0msum\u001b[0m\u001b[1;33m(\u001b[0m\u001b[1;33m)\u001b[0m\u001b[1;33m.\u001b[0m\u001b[0mplot\u001b[0m\u001b[1;33m(\u001b[0m\u001b[0max\u001b[0m\u001b[1;33m=\u001b[0m\u001b[0max\u001b[0m\u001b[1;33m)\u001b[0m\u001b[1;33m\u001b[0m\u001b[0m\n",
      "\u001b[1;31mNameError\u001b[0m: name 'countries' is not defined"
     ]
    },
    {
     "data": {
      "image/png": "[encoded data removed]",
      "text/plain": [
       "<Figure size 432x288 with 1 Axes>"
      ]
     },
     "metadata": {},
     "output_type": "display_data"
    }
   ],
   "source": [
    "a = dt_countries.groupby(['Country', 'day_part'])['dummy'].count().unstack().fillna(value=0).stack()\n",
    "\n",
    "a = a.reset_index()\n",
    "a.index = pd.to_datetime(a.day_part)\n",
    "a.Country = a.Country.astype('category')\n",
    "\n",
    "fig, ax = plt.subplots()\n",
    "for country in countries:\n",
    "    data = a[a.Country == country]\n",
    "    data.resample('w').sum().plot(ax=ax)\n",
    "\n",
    "ax.set_ylabel('number of enquiries')\n",
    "ax.set_xlabel('date')\n",
    "    \n",
    "plt.legend(countries)"
   ]
  },
  {
   "cell_type": "markdown",
   "metadata": {},
   "source": [
    "### Distribution Julien suggest"
   ]
  },
  {
   "cell_type": "markdown",
   "metadata": {},
   "source": [
    "#### Count of enquiries and the general distribution of e2b times"
   ]
  },
  {
   "cell_type": "code",
   "execution_count": 39,
   "metadata": {},
   "outputs": [
    {
     "data": {
      "application/vnd.jupyter.widget-view+json": {
       "model_id": "e7078f180c8c40149cf2db9529bfc866",
       "version_major": 2,
       "version_minor": 0
      },
      "text/plain": [
       "A Jupyter Widget"
      ]
     },
     "metadata": {},
     "output_type": "display_data"
    }
   ],
   "source": [
    "def plot_num_of_enq(destination, bound, data):\n",
    "    data = data[data.DESTINATION == destination]\n",
    "    \n",
    "    fig, ax = plt.subplots(1, 2)\n",
    "    fig.set_size_inches(14, 6)\n",
    "    data['dummy'].resample('w').sum().plot(ax=ax[0])\n",
    "    #data['enq_to_book_days'].resample('w').sum().plot(ax=ax[1])\n",
    "    data['enq_to_book_days'][data.enq_to_book_days < 70].hist(bins=40, density=True, ax=ax[1])\n",
    "    #data['enq_to_book_days'][data.enq_to_book_days < 50].plot.kde()\n",
    "    \n",
    "    ax0 = ax[0]; ax0.set(ylabel='Number of Enquiries')\n",
    "    ax1 = ax[1]; ax1.set(xlabel='Number of Days to Booking', ylabel='% of bookings')\n",
    "    \n",
    "    q = data['enq_to_book_days'].quantile(q=bound)\n",
    "    ax1.text(25, 0.12, str(bound*100)+'% of ' + str(destination)+ ' \\nenquiries take less than\\n '\\\n",
    "             +str(int(q)) + ' days to conver to booking.', fontsize=13)\n",
    "    \n",
    "from ipywidgets import interact, interactive, fixed\n",
    "import ipywidgets as widgets\n",
    "\n",
    "interact(plot_num_of_enq, data=fixed(dt_countries),bound=widgets.FloatSlider(min=0,max=1,step=0.1,value=10),\n",
    "         destination=dt_countries.DESTINATION.value_counts()[:7].index.tolist());"
   ]
  },
  {
   "cell_type": "code",
   "execution_count": null,
   "metadata": {},
   "outputs": [],
   "source": [
    "widgets.FloatSlider()"
   ]
  },
  {
   "cell_type": "code",
   "execution_count": 15,
   "metadata": {},
   "outputs": [
    {
     "data": {
      "application/vnd.jupyter.widget-view+json": {
       "model_id": "b779c571b970465daacc0f430c4a7363",
       "version_major": 2,
       "version_minor": 0
      },
      "text/plain": [
       "A Jupyter Widget"
      ]
     },
     "metadata": {},
     "output_type": "display_data"
    },
    {
     "data": {
      "text/plain": [
       "<matplotlib.axes._subplots.AxesSubplot at 0x17f232ae4e0>"
      ]
     },
     "execution_count": 15,
     "metadata": {},
     "output_type": "execute_result"
    }
   ],
   "source": [
    "def plot_num_of_enq(destination, data):\n",
    "    data = data[data.DESTINATION == destination]\n",
    "    \n",
    "    fig, ax = plt.subplots(1, 2)\n",
    "    fig.set_size_inches(16, 6)\n",
    "    data['dummy'].resample('w').sum().plot(ax=ax[0])\n",
    "    \n",
    "    data.set_index('booking_created_DT', inplace=True)\n",
    "    #data['enq_to_book_days'].resample('w').sum().plot(ax=ax[1])\n",
    "    #data['enq_to_book_days'][data.enq_to_book_days < 70].hist(bins=40, ax=ax[1])\n",
    "    #data['enq_to_book_days'][data.enq_to_book_days < 50].plot.kde()\n",
    "    sns.boxplot(x='month', y='enq_to_book_days',  \n",
    "                 data=dt_countries, ax=ax[1])\n",
    "    \n",
    "    ax0 = ax[0]; ax0.set(ylabel='Number of Enquiries')\n",
    "    ax1 = ax[1]; ax1.set(xlabel='Number of Days to Booking', ylabel='Count')\n",
    "    ax1.set_ylim(-1, 150)\n",
    "    \n",
    "from ipywidgets import interact, interactive, fixed\n",
    "import ipywidgets as widgets\n",
    "\n",
    "interact(plot_num_of_enq, data=fixed(dt_countries), destination=dt_countries.DESTINATION.value_counts()[:7].index.tolist());\n",
    "\n",
    "sns.boxplot(x='month', y='enq_to_book_days',  hue='Country', data=dt_countries, ax=ax)"
   ]
  },
  {
   "cell_type": "code",
   "execution_count": 183,
   "metadata": {},
   "outputs": [
    {
     "data": {
      "text/plain": [
       "6.351296296296296"
      ]
     },
     "execution_count": 183,
     "metadata": {},
     "output_type": "execute_result"
    }
   ],
   "source": [
    "dt_countries['enq_to_book_days'].median()"
   ]
  },
  {
   "cell_type": "markdown",
   "metadata": {},
   "source": [
    "#### Count of Enquiries over enquiry time and Count of bookings over booking times"
   ]
  },
  {
   "cell_type": "code",
   "execution_count": 125,
   "metadata": {},
   "outputs": [
    {
     "data": {
      "application/vnd.jupyter.widget-view+json": {
       "model_id": "dca9f3285f7b4836892d388fc4268355",
       "version_major": 2,
       "version_minor": 0
      },
      "text/plain": [
       "A Jupyter Widget"
      ]
     },
     "metadata": {},
     "output_type": "display_data"
    },
    {
     "data": {
      "text/plain": [
       "<function __main__.plot_num_of_enq>"
      ]
     },
     "execution_count": 125,
     "metadata": {},
     "output_type": "execute_result"
    }
   ],
   "source": [
    "def plot_num_of_enq(destination, data):\n",
    "    data = data[data.DESTINATION == destination]\n",
    "    \n",
    "    fig, ax = plt.subplots()\n",
    "    fig.set_size_inches(14, 7)\n",
    "    data['dummy'].resample('w').sum().plot(ax=ax)\n",
    "    ax.set_ylabel('number of enquiries', color='b')\n",
    "    ax.tick_params('y', colors='b')\n",
    "    \n",
    "    ax2 = ax.twinx()\n",
    "    data.set_index('booking_created_DT', inplace=True)\n",
    "    data['dummy'].resample('w').sum().plot(ax=ax2, color='r')\n",
    "    #ax2.set(xlabel='Date', ylabel='number of bookings')\n",
    "    ax2.set_ylabel('number of bookings', color='r')\n",
    "    ax2.tick_params('y', colors='r')\n",
    "    ax2.tick_params('y', colors='r')\n",
    "    \n",
    "    ax.grid(True)\n",
    "    \n",
    "from ipywidgets import interact, interactive, fixed\n",
    "import ipywidgets as widgets\n",
    "\n",
    "interact(plot_num_of_enq, data=fixed(dt_countries), destination=dt_countries.DESTINATION.value_counts()[:7].index.tolist())"
   ]
  },
  {
   "cell_type": "markdown",
   "metadata": {},
   "source": [
    "### Time to book"
   ]
  },
  {
   "cell_type": "code",
   "execution_count": 80,
   "metadata": {},
   "outputs": [
    {
     "name": "stderr",
     "output_type": "stream",
     "text": [
      "C:\\Users\\Fabusuyi\\AppData\\Local\\Continuum\\anaconda3\\lib\\site-packages\\pandas\\core\\indexing.py:362: SettingWithCopyWarning: \n",
      "A value is trying to be set on a copy of a slice from a DataFrame.\n",
      "Try using .loc[row_indexer,col_indexer] = value instead\n",
      "\n",
      "See the caveats in the documentation: http://pandas.pydata.org/pandas-docs/stable/indexing.html#indexing-view-versus-copy\n",
      "  self.obj[key] = _infer_fill_value(value)\n",
      "C:\\Users\\Fabusuyi\\AppData\\Local\\Continuum\\anaconda3\\lib\\site-packages\\pandas\\core\\indexing.py:543: SettingWithCopyWarning: \n",
      "A value is trying to be set on a copy of a slice from a DataFrame.\n",
      "Try using .loc[row_indexer,col_indexer] = value instead\n",
      "\n",
      "See the caveats in the documentation: http://pandas.pydata.org/pandas-docs/stable/indexing.html#indexing-view-versus-copy\n",
      "  self.obj[item] = s\n"
     ]
    }
   ],
   "source": [
    "enq_to_book_days = ((dt.booking_created_DT - dt.created).dt.total_seconds()) / (60*60*24.0)\n",
    "enq_to_book_days[enq_to_book_days < 0] = 0.0  # for days that come out negative\n",
    "\n",
    "enq_to_travel_days = ((dt.travel_date - dt.created).dt.total_seconds()) / (60*60*24.0)\n",
    "enq_to_travel_days[enq_to_travel_days < 0] = 0.0\n",
    "\n",
    "dt_countries.loc[:, 'enq_to_book_days'] = enq_to_book_days\n",
    "dt_countries.loc[:, 'enq_to_travel_days'] = enq_to_travel_days\n",
    "\n",
    "dt_countries.loc[:, 'month'] = dt_countries.created.dt.month_name()"
   ]
  },
  {
   "cell_type": "code",
   "execution_count": 18,
   "metadata": {},
   "outputs": [
    {
     "data": {
      "text/plain": [
       "<matplotlib.axes._subplots.AxesSubplot at 0x2186d28dfd0>"
      ]
     },
     "execution_count": 18,
     "metadata": {},
     "output_type": "execute_result"
    },
    {
     "data": {
      "image/png": "[encoded data removed]",
      "text/plain": [
       "<Figure size 720x504 with 1 Axes>"
      ]
     },
     "metadata": {},
     "output_type": "display_data"
    }
   ],
   "source": [
    "fig, ax = plt.subplots()\n",
    "fig.set_size_inches(10,7)\n",
    "ax.set_ylim(-1, 70)\n",
    "sns.boxplot(x='month', y='enq_to_book_days',  hue='Country', data=dt_countries, ax=ax)"
   ]
  },
  {
   "cell_type": "markdown",
   "metadata": {},
   "source": [
    "### TIme to travel"
   ]
  },
  {
   "cell_type": "code",
   "execution_count": 19,
   "metadata": {
    "collapsed": true
   },
   "outputs": [
    {
     "data": {
      "text/plain": [
       "<matplotlib.axes._subplots.AxesSubplot at 0x2186dbd8630>"
      ]
     },
     "execution_count": 19,
     "metadata": {},
     "output_type": "execute_result"
    },
    {
     "data": {
      "image/png": "[encoded data removed]",
      "text/plain": [
       "<Figure size 720x504 with 1 Axes>"
      ]
     },
     "metadata": {},
     "output_type": "display_data"
    }
   ],
   "source": [
    "fig, ax = plt.subplots()\n",
    "fig.set_size_inches(10,7)\n",
    "#ax.set_ylim(-1, 70)\n",
    "sns.boxplot(x='month', y='enq_to_travel_days',  hue='Country', data=dt_countries, ax=ax)"
   ]
  },
  {
   "cell_type": "code",
   "execution_count": null,
   "metadata": {},
   "outputs": [],
   "source": [
    "# slider = widgets.IntSlider(min=1, max=12, value=4, description='Hours')\n",
    "# interact(plot_time_dist, df=fixed(enq), freq=slider, x=fixed('hr'), \n",
    "#          factor=fixed('weekend?'), thresh=fixed(20000), ax=fixed(None), order=fixed(None));"
   ]
  },
  {
   "cell_type": "code",
   "execution_count": 176,
   "metadata": {},
   "outputs": [
    {
     "data": {
      "application/vnd.jupyter.widget-view+json": {
       "model_id": "dada70eca912406d923061e29ad6aa48",
       "version_major": 2,
       "version_minor": 0
      },
      "text/plain": [
       "A Jupyter Widget"
      ]
     },
     "metadata": {},
     "output_type": "display_data"
    },
    {
     "data": {
      "text/plain": [
       "<function __main__.plot_dist>"
      ]
     },
     "execution_count": 176,
     "metadata": {},
     "output_type": "execute_result"
    }
   ],
   "source": [
    "def plot_dist(destination, data=dt_countries):\n",
    "    dt = dt_countries[dt_countries.DESTINATION == destination]\n",
    "    \n",
    "    fig, ax = plt.subplots()\n",
    "    fig.set_size_inches(10,7)\n",
    "    \n",
    "    sns.boxplot(x='month', y='enq_to_book_days',  \n",
    "                data=dt, ax=ax)\n",
    "\n",
    "    \n",
    "\n",
    "from ipywidgets import interact, interactive, fixed\n",
    "import ipywidgets as widgets\n",
    "\n",
    "interact(plot_dist, data=fixed(dt_countries), destination=dt_countries.DESTINATION.value_counts()[:7].index.tolist())\n",
    "    \n"
   ]
  },
  {
   "cell_type": "code",
   "execution_count": 27,
   "metadata": {},
   "outputs": [
    {
     "data": {
      "text/plain": [
       "['Greater Kruger Area',\n",
       " 'Cape Town',\n",
       " 'Gauteng',\n",
       " 'Victoria Falls Zimbabwe',\n",
       " 'Chobe Region',\n",
       " 'Garden Route',\n",
       " 'Moremi and Okavango Region']"
      ]
     },
     "execution_count": 27,
     "metadata": {},
     "output_type": "execute_result"
    }
   ],
   "source": [
    "dt_countries.DESTINATION.value_counts()[:7].index.tolist()"
   ]
  },
  {
   "cell_type": "code",
   "execution_count": 154,
   "metadata": {},
   "outputs": [
    {
     "data": {
      "application/vnd.jupyter.widget-view+json": {
       "model_id": "413e11450149481cbf6c939183713d97",
       "version_major": 2,
       "version_minor": 0
      },
      "text/plain": [
       "A Jupyter Widget"
      ]
     },
     "metadata": {},
     "output_type": "display_data"
    },
    {
     "data": {
      "text/plain": [
       "<function __main__.plot_enq_book>"
      ]
     },
     "execution_count": 154,
     "metadata": {},
     "output_type": "execute_result"
    }
   ],
   "source": [
    "def plot_enq_book(destination, enq_ga=enq_ga, enq_dw=enq_dw, booking=booking):\n",
    "    booking = booking[booking.DESTINATION == destination]\n",
    "    \n",
    "    \n",
    "    fig, ax = plt.subplots()\n",
    "    fig.set_size_inches(14, 7)\n",
    "    enq_ga['dummy'].resample('w').sum().plot(ax=ax)\n",
    "    ax.set_ylabel('number of enquiries', color='b')\n",
    "    ax.tick_params('y', colors='b')\n",
    "    \n",
    "    ax2 = ax.twinx()\n",
    "    #data.set_index('booking_created_DT', inplace=True)\n",
    "    booking['dummy'].resample('w').sum().plot(ax=ax2, color='r')\n",
    "    #ax2.set(xlabel='Date', ylabel='number of bookings')\n",
    "    ax2.set_ylabel('number of bookings', color='r')\n",
    "    ax2.tick_params('y', colors='r')\n",
    "    ax2.tick_params('y', colors='r')\n",
    "    \n",
    "    ax.grid(True); ax.set_title('Enquiries and Bookings (red)', fontsize=17)\n",
    "    ax.set\n",
    "    \n",
    "from ipywidgets import interact, interactive, fixed\n",
    "import ipywidgets as widgets\n",
    "\n",
    "interact(plot_enq_book, enq_ga=fixed(enq_ga), enq_dw=fixed(enq_dw), booking=fixed(booking),\n",
    "         destination=booking.DESTINATION.value_counts()[:7].index.tolist())"
   ]
  },
  {
   "cell_type": "code",
   "execution_count": null,
   "metadata": {},
   "outputs": [],
   "source": []
  }
 ],
 "metadata": {
  "kernelspec": {
   "display_name": "Python 3",
   "language": "python",
   "name": "python3"
  },
  "language_info": {
   "codemirror_mode": {
    "name": "ipython",
    "version": 3
   },
   "file_extension": ".py",
   "mimetype": "text/x-python",
   "name": "python",
   "nbconvert_exporter": "python",
   "pygments_lexer": "ipython3",
   "version": "3.6.3"
  }
 },
 "nbformat": 4,
 "nbformat_minor": 2
}
